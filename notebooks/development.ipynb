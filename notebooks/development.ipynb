{
 "cells": [
  {
   "cell_type": "code",
   "execution_count": null,
   "metadata": {},
   "outputs": [],
   "source": [
    "import httpx\n",
    "from drivewx.mapbox import build_url\n",
    "from drivewx.route import create_times_from_durations, split_coords_by_duration_interval, create_line_strings_from_segments, create_feature_collection, split_coords_into_segments\n",
    "from drivewx.models import Route\n",
    "from drivewx.models import Coord\n",
    "from datetime import datetime\n",
    "from drivewx.mapbox import get_route_info\n",
    "import json"
   ]
  },
  {
   "cell_type": "code",
   "execution_count": null,
   "metadata": {},
   "outputs": [],
   "source": [
    "omaha = (-95.9345, 41.2565)\n",
    "lincoln = (-96.7026, 40.8136)"
   ]
  },
  {
   "cell_type": "code",
   "execution_count": null,
   "metadata": {},
   "outputs": [],
   "source": [
    "route = await get_route_info([Coord(lon=omaha[0], lat=omaha[1]), Coord(lon=lincoln[0], lat=lincoln[1])])"
   ]
  },
  {
   "cell_type": "code",
   "execution_count": null,
   "metadata": {},
   "outputs": [],
   "source": [
    "route\n"
   ]
  },
  {
   "cell_type": "code",
   "execution_count": null,
   "metadata": {},
   "outputs": [],
   "source": [
    "durations = route.get_durations()\n",
    "coords = route.get_coords()\n",
    "stepped_points, stepped_durations, stepped_indexes = split_coords_by_duration_interval(coords, durations, 900)\n",
    "times = create_times_from_durations(start=datetime.now(), durations=stepped_durations)\n"
   ]
  },
  {
   "cell_type": "code",
   "execution_count": null,
   "metadata": {},
   "outputs": [],
   "source": [
    "list(zip(stepped_points, stepped_durations, times))"
   ]
  },
  {
   "cell_type": "code",
   "execution_count": null,
   "metadata": {},
   "outputs": [],
   "source": [
    "segments = split_coords_into_segments(coords, stepped_indexes)\n",
    "line_strings = create_line_strings_from_segments(segments)\n",
    "feature_collection = create_feature_collection(line_strings)\n",
    "json.dumps(feature_collection)"
   ]
  },
  {
   "cell_type": "code",
   "execution_count": null,
   "metadata": {},
   "outputs": [],
   "source": []
  }
 ],
 "metadata": {
  "kernelspec": {
   "display_name": "drivewx",
   "language": "python",
   "name": "python3"
  },
  "language_info": {
   "codemirror_mode": {
    "name": "ipython",
    "version": 3
   },
   "file_extension": ".py",
   "mimetype": "text/x-python",
   "name": "python",
   "nbconvert_exporter": "python",
   "pygments_lexer": "ipython3"
  }
 },
 "nbformat": 4,
 "nbformat_minor": 2
}
